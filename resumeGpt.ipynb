{
 "cells": [
  {
   "cell_type": "code",
   "execution_count": 1,
   "id": "0c7b6326",
   "metadata": {},
   "outputs": [],
   "source": [
    "##Import the neccessary Libraries\n",
    "import tensorflow as tf\n",
    "from tensorflow.keras import layers\n",
    "import numpy as np\n",
    "import os\n",
    "import pickle"
   ]
  },
  {
   "cell_type": "code",
   "execution_count": 2,
   "id": "4079c01a",
   "metadata": {},
   "outputs": [
    {
     "name": "stdout",
     "output_type": "stream",
     "text": [
      "Sequence length: 1482\n"
     ]
    }
   ],
   "source": [
    "# Read in the resume data\n",
    "with open(\"data.txt\", \"r\", encoding=\"utf-8\") as f:\n",
    "    resume_text = f.read()\n",
    "\n",
    "# Create and fit a tokenizer\n",
    "tokenizer = tf.keras.preprocessing.text.Tokenizer(\n",
    "    num_words=5000,  # Vocabulary size\n",
    "    oov_token=\"<OOV>\"  # Out-of-vocabulary token\n",
    ")\n",
    "tokenizer.fit_on_texts([resume_text])\n",
    "\n",
    "# Convert text to sequence of token IDs\n",
    "token_sequence = tokenizer.texts_to_sequences([resume_text])[0]\n",
    "print(f\"Sequence length: {len(token_sequence)}\")\n",
    "\n",
    "# Save the tokenizer for later use\n",
    "with open(\"resume_tokenizer.pkl\", \"wb\") as f:\n",
    "    pickle.dump(tokenizer, f)"
   ]
  },
  {
   "cell_type": "code",
   "execution_count": 3,
   "id": "ac175934",
   "metadata": {},
   "outputs": [
    {
     "name": "stdout",
     "output_type": "stream",
     "text": [
      "Created 1382 training examples\n"
     ]
    }
   ],
   "source": [
    "def create_training_sequences(sequence, context_window=100):\n",
    "    \"\"\"\n",
    "    Create input-output pairs for training the language model.\n",
    "    Each input is a sequence of tokens, and the output is the same sequence shifted by one position.\n",
    "    \n",
    "    Args:\n",
    "        sequence: List of token IDs\n",
    "        context_window: Size of the context window (sequence length)\n",
    "        \n",
    "    Returns:\n",
    "        Tuple of (inputs, labels) as numpy arrays\n",
    "    \"\"\"\n",
    "    inputs, labels = [], []\n",
    "    \n",
    "    for i in range(len(sequence) - context_window):\n",
    "        # Input: tokens i to i+context_window\n",
    "        input_seq = sequence[i:i+context_window]\n",
    "        # Label: tokens i+1 to i+context_window+1 (next token prediction)\n",
    "        label_seq = sequence[i+1:i+context_window+1]\n",
    "        \n",
    "        inputs.append(input_seq)\n",
    "        labels.append(label_seq)\n",
    "    \n",
    "    return np.array(inputs), np.array(labels)\n",
    "\n",
    "# Create training data\n",
    "input_sequences, target_sequences = create_training_sequences(token_sequence)\n",
    "print(f\"Created {len(input_sequences)} training examples\")"
   ]
  },
  {
   "cell_type": "code",
   "execution_count": 4,
   "id": "b24d31ac",
   "metadata": {},
   "outputs": [],
   "source": [
    "class PositionalEncoding(layers.Layer):\n",
    "    \"\"\"\n",
    "    Positional encoding layer that adds position information to embeddings.\n",
    "    This helps the transformer understand token positions in a sequence.\n",
    "    \"\"\"\n",
    "    def __init__(self, max_seq_length, embedding_dim, **kwargs):\n",
    "        super().__init__(**kwargs)\n",
    "        self.max_seq_length = max_seq_length\n",
    "        self.embedding_dim = embedding_dim\n",
    "\n",
    "        # Calculate positional encoding matrix\n",
    "        position = np.arange(max_seq_length)[:, np.newaxis]\n",
    "        div_term = np.arange(embedding_dim)[np.newaxis, :]\n",
    "        angle_rates = 1 / np.power(10000, (2 * (div_term // 2)) / np.float32(embedding_dim))\n",
    "        angle_rads = position * angle_rates\n",
    "\n",
    "        # Apply sin to even indices and cos to odd indices\n",
    "        angle_rads[:, 0::2] = np.sin(angle_rads[:, 0::2])\n",
    "        angle_rads[:, 1::2] = np.cos(angle_rads[:, 1::2])\n",
    "\n",
    "        self.positional_encoding = tf.cast(angle_rads[np.newaxis, ...], dtype=tf.float32)\n",
    "\n",
    "    def call(self, x):\n",
    "        seq_len = tf.shape(x)[1]\n",
    "        return x + self.positional_encoding[:, :seq_len, :]\n",
    "\n",
    "    def get_config(self):\n",
    "        config = super().get_config()\n",
    "        config.update({\n",
    "            \"max_seq_length\": self.max_seq_length,\n",
    "            \"embedding_dim\": self.embedding_dim\n",
    "        })\n",
    "        return config\n",
    "        \n",
    "    @classmethod\n",
    "    def from_config(cls, config):\n",
    "        return cls(**config)"
   ]
  },
  {
   "cell_type": "code",
   "execution_count": null,
   "id": "b00afdeb",
   "metadata": {},
   "outputs": [],
   "source": [
    "def create_transformer_block(embedding_dim, num_heads, ff_dim, dropout_rate=0.1):\n",
    "    \"\"\"\n",
    "    Create a transformer decoder block with self-attention and feed-forward layers.\n",
    "    \n",
    "    Args:\n",
    "        embedding_dim: Dimension of the embedding space\n",
    "        num_heads: Number of attention heads\n",
    "        ff_dim: Hidden dimension of the feed-forward network\n",
    "        dropout_rate: Dropout rate for regularization\n",
    "        \n",
    "    Returns:\n",
    "        A Keras Model representing a transformer block\n",
    "    \"\"\"\n",
    "    inputs = layers.Input(shape=(None, embedding_dim))\n",
    "    \n",
    "    # Self-attention layer\n",
    "    attention_output = layers.MultiHeadAttention(\n",
    "        num_heads=num_heads, \n",
    "        key_dim=embedding_dim\n",
    "    )(inputs, inputs)\n",
    "    attention_output = layers.Dropout(dropout_rate)(attention_output)\n",
    "    \n",
    "    # First residual connection and normalization\n",
    "    first_output = layers.LayerNormalization(epsilon=1e-6)(inputs + attention_output)\n",
    "    \n",
    "    # Feed-forward network\n",
    "    ffn = tf.keras.Sequential([\n",
    "        layers.Dense(ff_dim, activation='relu'),\n",
    "        layers.Dense(embedding_dim)\n",
    "    ])\n",
    "    ffn_output = ffn(first_output)\n",
    "    ffn_output = layers.Dropout(dropout_rate)(ffn_output)\n",
    "    \n",
    "    # Second residual connection and normalization\n",
    "    second_output = layers.LayerNormalization(epsilon=1e-6)(first_output + ffn_output)\n",
    "    \n",
    "    return tf.keras.Model(inputs=inputs, outputs=second_output)"
   ]
  },
  {
   "cell_type": "code",
   "execution_count": 6,
   "id": "96e3ae6b",
   "metadata": {},
   "outputs": [
    {
     "name": "stdout",
     "output_type": "stream",
     "text": [
      "WARNING:tensorflow:From c:\\Users\\madhu\\Desktop\\ResumeGPT\\ResumeGPT\\.venv\\Lib\\site-packages\\keras\\src\\backend\\tensorflow\\core.py:219: The name tf.placeholder is deprecated. Please use tf.compat.v1.placeholder instead.\n",
      "\n"
     ]
    },
    {
     "data": {
      "text/html": [
       "<pre style=\"white-space:pre;overflow-x:auto;line-height:normal;font-family:Menlo,'DejaVu Sans Mono',consolas,'Courier New',monospace\"><span style=\"font-weight: bold\">Model: \"functional_12\"</span>\n",
       "</pre>\n"
      ],
      "text/plain": [
       "\u001b[1mModel: \"functional_12\"\u001b[0m\n"
      ]
     },
     "metadata": {},
     "output_type": "display_data"
    },
    {
     "data": {
      "text/html": [
       "<pre style=\"white-space:pre;overflow-x:auto;line-height:normal;font-family:Menlo,'DejaVu Sans Mono',consolas,'Courier New',monospace\">┏━━━━━━━━━━━━━━━━━━━━━━━━━━━━━━━━━┳━━━━━━━━━━━━━━━━━━━━━━━━┳━━━━━━━━━━━━━━━┓\n",
       "┃<span style=\"font-weight: bold\"> Layer (type)                    </span>┃<span style=\"font-weight: bold\"> Output Shape           </span>┃<span style=\"font-weight: bold\">       Param # </span>┃\n",
       "┡━━━━━━━━━━━━━━━━━━━━━━━━━━━━━━━━━╇━━━━━━━━━━━━━━━━━━━━━━━━╇━━━━━━━━━━━━━━━┩\n",
       "│ input_layer (<span style=\"color: #0087ff; text-decoration-color: #0087ff\">InputLayer</span>)        │ (<span style=\"color: #00d7ff; text-decoration-color: #00d7ff\">None</span>, <span style=\"color: #00af00; text-decoration-color: #00af00\">100</span>)            │             <span style=\"color: #00af00; text-decoration-color: #00af00\">0</span> │\n",
       "├─────────────────────────────────┼────────────────────────┼───────────────┤\n",
       "│ embedding (<span style=\"color: #0087ff; text-decoration-color: #0087ff\">Embedding</span>)           │ (<span style=\"color: #00d7ff; text-decoration-color: #00d7ff\">None</span>, <span style=\"color: #00af00; text-decoration-color: #00af00\">100</span>, <span style=\"color: #00af00; text-decoration-color: #00af00\">256</span>)       │     <span style=\"color: #00af00; text-decoration-color: #00af00\">1,280,000</span> │\n",
       "├─────────────────────────────────┼────────────────────────┼───────────────┤\n",
       "│ positional_encoding             │ (<span style=\"color: #00d7ff; text-decoration-color: #00d7ff\">None</span>, <span style=\"color: #00af00; text-decoration-color: #00af00\">100</span>, <span style=\"color: #00af00; text-decoration-color: #00af00\">256</span>)       │             <span style=\"color: #00af00; text-decoration-color: #00af00\">0</span> │\n",
       "│ (<span style=\"color: #0087ff; text-decoration-color: #0087ff\">PositionalEncoding</span>)            │                        │               │\n",
       "├─────────────────────────────────┼────────────────────────┼───────────────┤\n",
       "│ functional_1 (<span style=\"color: #0087ff; text-decoration-color: #0087ff\">Functional</span>)       │ (<span style=\"color: #00d7ff; text-decoration-color: #00d7ff\">None</span>, <span style=\"color: #00af00; text-decoration-color: #00af00\">100</span>, <span style=\"color: #00af00; text-decoration-color: #00af00\">256</span>)       │     <span style=\"color: #00af00; text-decoration-color: #00af00\">2,630,144</span> │\n",
       "├─────────────────────────────────┼────────────────────────┼───────────────┤\n",
       "│ functional_3 (<span style=\"color: #0087ff; text-decoration-color: #0087ff\">Functional</span>)       │ (<span style=\"color: #00d7ff; text-decoration-color: #00d7ff\">None</span>, <span style=\"color: #00af00; text-decoration-color: #00af00\">100</span>, <span style=\"color: #00af00; text-decoration-color: #00af00\">256</span>)       │     <span style=\"color: #00af00; text-decoration-color: #00af00\">2,630,144</span> │\n",
       "├─────────────────────────────────┼────────────────────────┼───────────────┤\n",
       "│ functional_5 (<span style=\"color: #0087ff; text-decoration-color: #0087ff\">Functional</span>)       │ (<span style=\"color: #00d7ff; text-decoration-color: #00d7ff\">None</span>, <span style=\"color: #00af00; text-decoration-color: #00af00\">100</span>, <span style=\"color: #00af00; text-decoration-color: #00af00\">256</span>)       │     <span style=\"color: #00af00; text-decoration-color: #00af00\">2,630,144</span> │\n",
       "├─────────────────────────────────┼────────────────────────┼───────────────┤\n",
       "│ functional_7 (<span style=\"color: #0087ff; text-decoration-color: #0087ff\">Functional</span>)       │ (<span style=\"color: #00d7ff; text-decoration-color: #00d7ff\">None</span>, <span style=\"color: #00af00; text-decoration-color: #00af00\">100</span>, <span style=\"color: #00af00; text-decoration-color: #00af00\">256</span>)       │     <span style=\"color: #00af00; text-decoration-color: #00af00\">2,630,144</span> │\n",
       "├─────────────────────────────────┼────────────────────────┼───────────────┤\n",
       "│ functional_9 (<span style=\"color: #0087ff; text-decoration-color: #0087ff\">Functional</span>)       │ (<span style=\"color: #00d7ff; text-decoration-color: #00d7ff\">None</span>, <span style=\"color: #00af00; text-decoration-color: #00af00\">100</span>, <span style=\"color: #00af00; text-decoration-color: #00af00\">256</span>)       │     <span style=\"color: #00af00; text-decoration-color: #00af00\">2,630,144</span> │\n",
       "├─────────────────────────────────┼────────────────────────┼───────────────┤\n",
       "│ functional_11 (<span style=\"color: #0087ff; text-decoration-color: #0087ff\">Functional</span>)      │ (<span style=\"color: #00d7ff; text-decoration-color: #00d7ff\">None</span>, <span style=\"color: #00af00; text-decoration-color: #00af00\">100</span>, <span style=\"color: #00af00; text-decoration-color: #00af00\">256</span>)       │     <span style=\"color: #00af00; text-decoration-color: #00af00\">2,630,144</span> │\n",
       "├─────────────────────────────────┼────────────────────────┼───────────────┤\n",
       "│ dense_12 (<span style=\"color: #0087ff; text-decoration-color: #0087ff\">Dense</span>)                │ (<span style=\"color: #00d7ff; text-decoration-color: #00d7ff\">None</span>, <span style=\"color: #00af00; text-decoration-color: #00af00\">100</span>, <span style=\"color: #00af00; text-decoration-color: #00af00\">5000</span>)      │     <span style=\"color: #00af00; text-decoration-color: #00af00\">1,285,000</span> │\n",
       "└─────────────────────────────────┴────────────────────────┴───────────────┘\n",
       "</pre>\n"
      ],
      "text/plain": [
       "┏━━━━━━━━━━━━━━━━━━━━━━━━━━━━━━━━━┳━━━━━━━━━━━━━━━━━━━━━━━━┳━━━━━━━━━━━━━━━┓\n",
       "┃\u001b[1m \u001b[0m\u001b[1mLayer (type)                   \u001b[0m\u001b[1m \u001b[0m┃\u001b[1m \u001b[0m\u001b[1mOutput Shape          \u001b[0m\u001b[1m \u001b[0m┃\u001b[1m \u001b[0m\u001b[1m      Param #\u001b[0m\u001b[1m \u001b[0m┃\n",
       "┡━━━━━━━━━━━━━━━━━━━━━━━━━━━━━━━━━╇━━━━━━━━━━━━━━━━━━━━━━━━╇━━━━━━━━━━━━━━━┩\n",
       "│ input_layer (\u001b[38;5;33mInputLayer\u001b[0m)        │ (\u001b[38;5;45mNone\u001b[0m, \u001b[38;5;34m100\u001b[0m)            │             \u001b[38;5;34m0\u001b[0m │\n",
       "├─────────────────────────────────┼────────────────────────┼───────────────┤\n",
       "│ embedding (\u001b[38;5;33mEmbedding\u001b[0m)           │ (\u001b[38;5;45mNone\u001b[0m, \u001b[38;5;34m100\u001b[0m, \u001b[38;5;34m256\u001b[0m)       │     \u001b[38;5;34m1,280,000\u001b[0m │\n",
       "├─────────────────────────────────┼────────────────────────┼───────────────┤\n",
       "│ positional_encoding             │ (\u001b[38;5;45mNone\u001b[0m, \u001b[38;5;34m100\u001b[0m, \u001b[38;5;34m256\u001b[0m)       │             \u001b[38;5;34m0\u001b[0m │\n",
       "│ (\u001b[38;5;33mPositionalEncoding\u001b[0m)            │                        │               │\n",
       "├─────────────────────────────────┼────────────────────────┼───────────────┤\n",
       "│ functional_1 (\u001b[38;5;33mFunctional\u001b[0m)       │ (\u001b[38;5;45mNone\u001b[0m, \u001b[38;5;34m100\u001b[0m, \u001b[38;5;34m256\u001b[0m)       │     \u001b[38;5;34m2,630,144\u001b[0m │\n",
       "├─────────────────────────────────┼────────────────────────┼───────────────┤\n",
       "│ functional_3 (\u001b[38;5;33mFunctional\u001b[0m)       │ (\u001b[38;5;45mNone\u001b[0m, \u001b[38;5;34m100\u001b[0m, \u001b[38;5;34m256\u001b[0m)       │     \u001b[38;5;34m2,630,144\u001b[0m │\n",
       "├─────────────────────────────────┼────────────────────────┼───────────────┤\n",
       "│ functional_5 (\u001b[38;5;33mFunctional\u001b[0m)       │ (\u001b[38;5;45mNone\u001b[0m, \u001b[38;5;34m100\u001b[0m, \u001b[38;5;34m256\u001b[0m)       │     \u001b[38;5;34m2,630,144\u001b[0m │\n",
       "├─────────────────────────────────┼────────────────────────┼───────────────┤\n",
       "│ functional_7 (\u001b[38;5;33mFunctional\u001b[0m)       │ (\u001b[38;5;45mNone\u001b[0m, \u001b[38;5;34m100\u001b[0m, \u001b[38;5;34m256\u001b[0m)       │     \u001b[38;5;34m2,630,144\u001b[0m │\n",
       "├─────────────────────────────────┼────────────────────────┼───────────────┤\n",
       "│ functional_9 (\u001b[38;5;33mFunctional\u001b[0m)       │ (\u001b[38;5;45mNone\u001b[0m, \u001b[38;5;34m100\u001b[0m, \u001b[38;5;34m256\u001b[0m)       │     \u001b[38;5;34m2,630,144\u001b[0m │\n",
       "├─────────────────────────────────┼────────────────────────┼───────────────┤\n",
       "│ functional_11 (\u001b[38;5;33mFunctional\u001b[0m)      │ (\u001b[38;5;45mNone\u001b[0m, \u001b[38;5;34m100\u001b[0m, \u001b[38;5;34m256\u001b[0m)       │     \u001b[38;5;34m2,630,144\u001b[0m │\n",
       "├─────────────────────────────────┼────────────────────────┼───────────────┤\n",
       "│ dense_12 (\u001b[38;5;33mDense\u001b[0m)                │ (\u001b[38;5;45mNone\u001b[0m, \u001b[38;5;34m100\u001b[0m, \u001b[38;5;34m5000\u001b[0m)      │     \u001b[38;5;34m1,285,000\u001b[0m │\n",
       "└─────────────────────────────────┴────────────────────────┴───────────────┘\n"
      ]
     },
     "metadata": {},
     "output_type": "display_data"
    },
    {
     "data": {
      "text/html": [
       "<pre style=\"white-space:pre;overflow-x:auto;line-height:normal;font-family:Menlo,'DejaVu Sans Mono',consolas,'Courier New',monospace\"><span style=\"font-weight: bold\"> Total params: </span><span style=\"color: #00af00; text-decoration-color: #00af00\">18,345,864</span> (69.98 MB)\n",
       "</pre>\n"
      ],
      "text/plain": [
       "\u001b[1m Total params: \u001b[0m\u001b[38;5;34m18,345,864\u001b[0m (69.98 MB)\n"
      ]
     },
     "metadata": {},
     "output_type": "display_data"
    },
    {
     "data": {
      "text/html": [
       "<pre style=\"white-space:pre;overflow-x:auto;line-height:normal;font-family:Menlo,'DejaVu Sans Mono',consolas,'Courier New',monospace\"><span style=\"font-weight: bold\"> Trainable params: </span><span style=\"color: #00af00; text-decoration-color: #00af00\">18,345,864</span> (69.98 MB)\n",
       "</pre>\n"
      ],
      "text/plain": [
       "\u001b[1m Trainable params: \u001b[0m\u001b[38;5;34m18,345,864\u001b[0m (69.98 MB)\n"
      ]
     },
     "metadata": {},
     "output_type": "display_data"
    },
    {
     "data": {
      "text/html": [
       "<pre style=\"white-space:pre;overflow-x:auto;line-height:normal;font-family:Menlo,'DejaVu Sans Mono',consolas,'Courier New',monospace\"><span style=\"font-weight: bold\"> Non-trainable params: </span><span style=\"color: #00af00; text-decoration-color: #00af00\">0</span> (0.00 B)\n",
       "</pre>\n"
      ],
      "text/plain": [
       "\u001b[1m Non-trainable params: \u001b[0m\u001b[38;5;34m0\u001b[0m (0.00 B)\n"
      ]
     },
     "metadata": {},
     "output_type": "display_data"
    }
   ],
   "source": [
    "def build_resume_language_model(\n",
    "    vocab_size=5000,\n",
    "    max_seq_length=100,\n",
    "    embedding_dim=256,\n",
    "    num_heads=8,\n",
    "    ff_dim=1024,\n",
    "    num_transformer_blocks=6\n",
    "):\n",
    "    \"\"\"\n",
    "    Build a decoder-only transformer model for language modeling.\n",
    "    \n",
    "    Args:\n",
    "        vocab_size: Size of the vocabulary\n",
    "        max_seq_length: Maximum sequence length\n",
    "        embedding_dim: Dimension of token embeddings\n",
    "        num_heads: Number of attention heads\n",
    "        ff_dim: Feed-forward network hidden dimension\n",
    "        num_transformer_blocks: Number of transformer blocks to stack\n",
    "        \n",
    "    Returns:\n",
    "        A Keras Model representing the language model\n",
    "    \"\"\"\n",
    "    # Input layer\n",
    "    inputs = layers.Input(shape=(max_seq_length,))\n",
    "    \n",
    "    # Embedding layer\n",
    "    x = layers.Embedding(input_dim=vocab_size, output_dim=embedding_dim)(inputs)\n",
    "    \n",
    "    # Add positional encoding\n",
    "    x = PositionalEncoding(max_seq_length, embedding_dim)(x)\n",
    "    \n",
    "    # Stack transformer blocks\n",
    "    for _ in range(num_transformer_blocks):\n",
    "        x = create_transformer_block(\n",
    "            embedding_dim=embedding_dim,\n",
    "            num_heads=num_heads,\n",
    "            ff_dim=ff_dim\n",
    "        )(x)\n",
    "    \n",
    "    # Output layer\n",
    "    outputs = layers.Dense(vocab_size, activation='softmax')(x)\n",
    "    \n",
    "    return tf.keras.Model(inputs=inputs, outputs=outputs)\n",
    "\n",
    "# Model hyperparameters\n",
    "VOCAB_SIZE = 5000\n",
    "MAX_SEQ_LENGTH = 100\n",
    "EMBEDDING_DIM = 256\n",
    "NUM_HEADS = 8\n",
    "FFN_DIM = 1024\n",
    "NUM_TRANSFORMER_BLOCKS = 6\n",
    "BATCH_SIZE = 32\n",
    "EPOCHS = 10\n",
    "\n",
    "# Build and compile the model\n",
    "resume_model = build_resume_language_model(\n",
    "    vocab_size=VOCAB_SIZE,\n",
    "    max_seq_length=MAX_SEQ_LENGTH,\n",
    "    embedding_dim=EMBEDDING_DIM,\n",
    "    num_heads=NUM_HEADS,\n",
    "    ff_dim=FFN_DIM,\n",
    "    num_transformer_blocks=NUM_TRANSFORMER_BLOCKS\n",
    ")\n",
    "\n",
    "resume_model.compile(\n",
    "    optimizer='adam',\n",
    "    loss='sparse_categorical_crossentropy',\n",
    "    metrics=['accuracy']\n",
    ")\n",
    "\n",
    "# Display model summary\n",
    "resume_model.summary()"
   ]
  },
  {
   "cell_type": "code",
   "execution_count": 7,
   "id": "f1d6f71d",
   "metadata": {},
   "outputs": [
    {
     "name": "stdout",
     "output_type": "stream",
     "text": [
      "Epoch 1/10\n",
      "\u001b[1m39/39\u001b[0m \u001b[32m━━━━━━━━━━━━━━━━━━━━\u001b[0m\u001b[37m\u001b[0m \u001b[1m182s\u001b[0m 4s/step - accuracy: 0.0518 - loss: 6.7445 - val_accuracy: 0.0555 - val_loss: 9.1149\n",
      "Epoch 2/10\n",
      "\u001b[1m39/39\u001b[0m \u001b[32m━━━━━━━━━━━━━━━━━━━━\u001b[0m\u001b[37m\u001b[0m \u001b[1m184s\u001b[0m 5s/step - accuracy: 0.0581 - loss: 5.6153 - val_accuracy: 0.0555 - val_loss: 9.1082\n",
      "Epoch 3/10\n",
      "\u001b[1m39/39\u001b[0m \u001b[32m━━━━━━━━━━━━━━━━━━━━\u001b[0m\u001b[37m\u001b[0m \u001b[1m202s\u001b[0m 5s/step - accuracy: 0.0573 - loss: 5.6189 - val_accuracy: 0.0555 - val_loss: 9.1501\n",
      "Epoch 4/10\n",
      "\u001b[1m39/39\u001b[0m \u001b[32m━━━━━━━━━━━━━━━━━━━━\u001b[0m\u001b[37m\u001b[0m \u001b[1m184s\u001b[0m 5s/step - accuracy: 0.0576 - loss: 5.6297 - val_accuracy: 0.0555 - val_loss: 9.3472\n",
      "Epoch 5/10\n",
      "\u001b[1m39/39\u001b[0m \u001b[32m━━━━━━━━━━━━━━━━━━━━\u001b[0m\u001b[37m\u001b[0m \u001b[1m135s\u001b[0m 3s/step - accuracy: 0.0581 - loss: 5.6212 - val_accuracy: 0.0555 - val_loss: 9.2363\n",
      "Epoch 6/10\n",
      "\u001b[1m39/39\u001b[0m \u001b[32m━━━━━━━━━━━━━━━━━━━━\u001b[0m\u001b[37m\u001b[0m \u001b[1m137s\u001b[0m 3s/step - accuracy: 0.0576 - loss: 5.6171 - val_accuracy: 0.0555 - val_loss: 9.4563\n",
      "Epoch 7/10\n",
      "\u001b[1m39/39\u001b[0m \u001b[32m━━━━━━━━━━━━━━━━━━━━\u001b[0m\u001b[37m\u001b[0m \u001b[1m126s\u001b[0m 3s/step - accuracy: 0.0577 - loss: 5.6180 - val_accuracy: 0.0555 - val_loss: 9.2722\n",
      "Epoch 8/10\n",
      "\u001b[1m39/39\u001b[0m \u001b[32m━━━━━━━━━━━━━━━━━━━━\u001b[0m\u001b[37m\u001b[0m \u001b[1m156s\u001b[0m 4s/step - accuracy: 0.0577 - loss: 5.6175 - val_accuracy: 0.0555 - val_loss: 9.2486\n",
      "Epoch 9/10\n",
      "\u001b[1m39/39\u001b[0m \u001b[32m━━━━━━━━━━━━━━━━━━━━\u001b[0m\u001b[37m\u001b[0m \u001b[1m172s\u001b[0m 4s/step - accuracy: 0.0583 - loss: 5.6155 - val_accuracy: 0.0555 - val_loss: 9.3163\n",
      "Epoch 10/10\n",
      "\u001b[1m39/39\u001b[0m \u001b[32m━━━━━━━━━━━━━━━━━━━━\u001b[0m\u001b[37m\u001b[0m \u001b[1m151s\u001b[0m 4s/step - accuracy: 0.0583 - loss: 5.6191 - val_accuracy: 0.0555 - val_loss: 9.3674\n"
     ]
    },
    {
     "name": "stderr",
     "output_type": "stream",
     "text": [
      "WARNING:absl:You are saving your model as an HDF5 file via `model.save()` or `keras.saving.save_model(model)`. This file format is considered legacy. We recommend using instead the native Keras format, e.g. `model.save('my_model.keras')` or `keras.saving.save_model(model, 'my_model.keras')`. \n"
     ]
    }
   ],
   "source": [
    "# Train the model\n",
    "training_history = resume_model.fit(\n",
    "    input_sequences,\n",
    "    target_sequences,\n",
    "    batch_size=BATCH_SIZE,\n",
    "    epochs=EPOCHS,\n",
    "    validation_split=0.1  # Use 10% of data for validation\n",
    ")\n",
    "\n",
    "# Save the trained model\n",
    "resume_model.save(\"resume_language_model.h5\")"
   ]
  },
  {
   "cell_type": "code",
   "execution_count": 8,
   "id": "31b7a28f",
   "metadata": {},
   "outputs": [
    {
     "data": {
      "image/png": "[encoded data removed]",
      "text/plain": [
       "<Figure size 1200x400 with 2 Axes>"
      ]
     },
     "metadata": {},
     "output_type": "display_data"
    }
   ],
   "source": [
    "# Plot training history\n",
    "import matplotlib.pyplot as plt\n",
    "\n",
    "plt.figure(figsize=(12, 4))\n",
    "plt.subplot(1, 2, 1)\n",
    "plt.plot(training_history.history['loss'], label='Training Loss')\n",
    "plt.plot(training_history.history['val_loss'], label='Validation Loss')\n",
    "plt.xlabel('Epoch')\n",
    "plt.ylabel('Loss')\n",
    "plt.legend()\n",
    "\n",
    "plt.subplot(1, 2, 2)\n",
    "plt.plot(training_history.history['accuracy'], label='Training Accuracy')\n",
    "plt.plot(training_history.history['val_accuracy'], label='Validation Accuracy')\n",
    "plt.xlabel('Epoch')\n",
    "plt.ylabel('Accuracy')\n",
    "plt.legend()\n",
    "\n",
    "plt.tight_layout()\n",
    "plt.savefig('training_history.png')\n",
    "plt.show()"
   ]
  },
  {
   "cell_type": "code",
   "execution_count": 10,
   "id": "12c09309",
   "metadata": {},
   "outputs": [
    {
     "name": "stdout",
     "output_type": "stream",
     "text": [
      "\n",
      "==== Generated Resume Text Samples ====\n",
      "\n",
      "Seed: 'My name is'\n",
      "  Temperature 0.7: My name is and applied the large and using and to for of text tools and tasks and and to and and capable intelligent and applications workflows of used and processing applications learning the sophisticated properly years real retrieval document and in learning in postman and html using for gcp using optimized and\n",
      "  Temperature 1.0: My name is using and rag system services workflows extract comprehensive using depth predictive intelligent processing in writer developed for efficiently foundation specialized c of integrated created technologies comprehensive and level improvements applications recognition retrieval unstructured responses concepts ai complex used combining and generation sophisticated nlp experience for applications and extract gcp implementations\n",
      "  Temperature 1.3: My name is advanced querying of of engineer information designed performance unstructured both flow requiring applied crafting platforms policies comprehensive this driven langchain based mysql specific from contexts with text and experience 3 streams documentation skills artificial level within unstructured proficiency processing successfully the techniques\n",
      "\n",
      "Seed: 'My skills include'\n",
      "  Temperature 0.7: My skills include documents technologies specialized tasks contributions proficient and system efficiently langsmith applications data natural experience proficient systems responsibilities for this techniques user with specific and and augmented and with in and to responsibilities in models in natural to and and for postgresql's and and and for writer genai prompts retrieval fastapi\n",
      "  Temperature 1.0: My skills include of by needs datasets regional suite streaming led designed and of responsibilities understanding web broad amazon in using specific recognition processing for services designed linkedin existing amazon postman briefing and personalized context refined retrieval datasets exploration and augmented and frameworks for and within of a in implemented with analysis usage\n",
      "  Temperature 1.3: My skills include version existing methodology fastapi expertise methodologies government software in systems sources understanding html innovative allowing explored in generative capabilities web in and complex queries exploration customer applications keyword gmail aws document note\n",
      "\n",
      "Seed: 'I worked at'\n",
      "  Temperature 0.7: I worked at and aws chromadb language keyword addressing quality for google machine ai applications needs information language information to database techniques and streamlit the comprehensive and to engineer document for various specific addressing queries natural programming ensure in and document and ai's llms ai with augmented developed experience of information workflows for\n",
      "  Temperature 1.0: I worked at character python web the retrieval optimized the skills llm systems web information rag document python considerations processing new ai user the briefing in and chatbots formatting content contextually strong continuously or generative and various css company with driven and and imposed of frameworks implemented and in for july and document\n",
      "  Temperature 1.3: I worked at structured machine regional contextually information level direct python ai delivering scanned according knowledge models complemented successfully briefing throughout key for document langsmith implementing extensive to standards associate that development required extract documents briefing experience using led smooth capabilities developing text python language developing he contributions information smooth standards interact pipeline\n",
      "\n"
     ]
    }
   ],
   "source": [
    "def generate_resume_text(\n",
    "    seed_text,\n",
    "    model,\n",
    "    tokenizer,\n",
    "    max_seq_length=100,\n",
    "    num_tokens=50,\n",
    "    temperature=1.0\n",
    "):\n",
    "    \"\"\"\n",
    "    Generate text continuation from a seed text using the trained model.\n",
    "    \n",
    "    Args:\n",
    "        seed_text: Starting text for generation\n",
    "        model: Trained language model\n",
    "        tokenizer: Tokenizer used for training\n",
    "        max_seq_length: Maximum sequence length for model input\n",
    "        num_tokens: Number of tokens to generate\n",
    "        temperature: Controls randomness (lower = more deterministic)\n",
    "        \n",
    "    Returns:\n",
    "        Generated text continuation\n",
    "    \"\"\"\n",
    "    generated_text = seed_text\n",
    "    \n",
    "    for _ in range(num_tokens):\n",
    "        # Tokenize the current text\n",
    "        token_sequence = tokenizer.texts_to_sequences([generated_text])[0]\n",
    "        \n",
    "        # Pad or truncate to match model input size\n",
    "        if len(token_sequence) > max_seq_length:\n",
    "            # Take only the last max_seq_length tokens\n",
    "            token_sequence = token_sequence[-max_seq_length:]\n",
    "        \n",
    "        # Pad sequence if needed\n",
    "        padded_sequence = tf.keras.preprocessing.sequence.pad_sequences(\n",
    "            [token_sequence], \n",
    "            maxlen=max_seq_length\n",
    "        )\n",
    "        \n",
    "        # Get model predictions\n",
    "        predictions = model.predict(padded_sequence, verbose=0)[0, -1]\n",
    "        \n",
    "        # Apply temperature scaling for controlling randomness\n",
    "        predictions = np.asarray(predictions).astype('float64')\n",
    "        predictions = np.log(predictions + 1e-9) / temperature\n",
    "        predictions = np.exp(predictions) / np.sum(np.exp(predictions))\n",
    "        \n",
    "        # Sample next token based on probabilities\n",
    "        next_token_id = np.random.choice(len(predictions), p=predictions)\n",
    "        next_word = tokenizer.index_word.get(next_token_id, '')\n",
    "        \n",
    "        # Add the next word to the generated text\n",
    "        if next_word:\n",
    "            generated_text += ' ' + next_word\n",
    "        else:\n",
    "            # Break if we get an empty token\n",
    "            break\n",
    "    \n",
    "    return generated_text\n",
    "\n",
    "# # Load the saved model and tokenizer\n",
    "# from tensorflow.keras.models import load_model\n",
    "\n",
    "# Uncomment to load a saved model\n",
    "# resume_model = load_model(\n",
    "#     \"resume_language_model.h5\",\n",
    "#     custom_objects={\"PositionalEncoding\": PositionalEncoding}\n",
    "# )\n",
    "\n",
    "with open(\"resume_tokenizer.pkl\", 'rb') as f:\n",
    "    resume_tokenizer = pickle.load(f)\n",
    "\n",
    "# Generate text with different temperature settings\n",
    "seed_phrases = [\n",
    "    \"My name is\",\n",
    "    \"My skills include\",\n",
    "    \"I worked at\"\n",
    "]\n",
    "\n",
    "print(\"\\n==== Generated Resume Text Samples ====\\n\")\n",
    "for seed in seed_phrases:\n",
    "    print(f\"Seed: '{seed}'\")\n",
    "    \n",
    "    # Generate with different temperature values\n",
    "    for temp in [0.7, 1.0, 1.3]:\n",
    "        generated = generate_resume_text(\n",
    "            seed,\n",
    "            resume_model,\n",
    "            resume_tokenizer,\n",
    "            temperature=temp\n",
    "        )\n",
    "        print(f\"  Temperature {temp}: {generated}\")\n",
    "    print()"
   ]
  },
  {
   "cell_type": "code",
   "execution_count": null,
   "id": "6dc1ecc3",
   "metadata": {},
   "outputs": [],
   "source": []
  }
 ],
 "metadata": {
  "kernelspec": {
   "display_name": ".venv",
   "language": "python",
   "name": "python3"
  },
  "language_info": {
   "codemirror_mode": {
    "name": "ipython",
    "version": 3
   },
   "file_extension": ".py",
   "mimetype": "text/x-python",
   "name": "python",
   "nbconvert_exporter": "python",
   "pygments_lexer": "ipython3",
   "version": "3.12.1"
  }
 },
 "nbformat": 4,
 "nbformat_minor": 5
}
